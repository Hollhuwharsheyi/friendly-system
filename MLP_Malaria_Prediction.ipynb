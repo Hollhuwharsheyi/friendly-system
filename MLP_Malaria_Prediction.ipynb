{
 "cells": [
  {
   "cell_type": "code",
   "execution_count": 34,
   "id": "6e3c9e55",
   "metadata": {},
   "outputs": [
    {
     "name": "stdout",
     "output_type": "stream",
     "text": [
      "C:/Users/DELL/OneDrive/Documents/ANN_7088CEM\\Books.csv\n",
      "C:/Users/DELL/OneDrive/Documents/ANN_7088CEM\\malaria_prediction.csv\n",
      "C:/Users/DELL/OneDrive/Documents/ANN_7088CEM\\Ratings.csv\n",
      "C:/Users/DELL/OneDrive/Documents/ANN_7088CEM\\Users.csv\n"
     ]
    }
   ],
   "source": [
    "import numpy as np # linear algebra\n",
    "import pandas as pd # data processing, CSV file I/O (e.g. pd.read_csv)\n",
    "\n",
    "import os\n",
    "for dirname, _, filenames in os.walk('C:/Users/DELL/OneDrive/Documents/ANN_7088CEM'):\n",
    "    for filename in filenames:\n",
    "        print(os.path.join(dirname, filename))"
   ]
  },
  {
   "cell_type": "code",
   "execution_count": 35,
   "id": "5a27b64c",
   "metadata": {},
   "outputs": [],
   "source": [
    "acute_malaria = pd.read_csv('C:/Users/DELL/OneDrive/Documents/ANN_7088CEM/malaria_prediction.csv')"
   ]
  },
  {
   "cell_type": "code",
   "execution_count": 36,
   "id": "da140d65",
   "metadata": {},
   "outputs": [
    {
     "data": {
      "text/html": [
       "<div>\n",
       "<style scoped>\n",
       "    .dataframe tbody tr th:only-of-type {\n",
       "        vertical-align: middle;\n",
       "    }\n",
       "\n",
       "    .dataframe tbody tr th {\n",
       "        vertical-align: top;\n",
       "    }\n",
       "\n",
       "    .dataframe thead th {\n",
       "        text-align: right;\n",
       "    }\n",
       "</style>\n",
       "<table border=\"1\" class=\"dataframe\">\n",
       "  <thead>\n",
       "    <tr style=\"text-align: right;\">\n",
       "      <th></th>\n",
       "      <th>age</th>\n",
       "    </tr>\n",
       "  </thead>\n",
       "  <tbody>\n",
       "    <tr>\n",
       "      <th>count</th>\n",
       "      <td>1000.000000</td>\n",
       "    </tr>\n",
       "    <tr>\n",
       "      <th>mean</th>\n",
       "      <td>0.512000</td>\n",
       "    </tr>\n",
       "    <tr>\n",
       "      <th>std</th>\n",
       "      <td>0.500106</td>\n",
       "    </tr>\n",
       "    <tr>\n",
       "      <th>min</th>\n",
       "      <td>0.000000</td>\n",
       "    </tr>\n",
       "    <tr>\n",
       "      <th>25%</th>\n",
       "      <td>0.000000</td>\n",
       "    </tr>\n",
       "    <tr>\n",
       "      <th>50%</th>\n",
       "      <td>1.000000</td>\n",
       "    </tr>\n",
       "    <tr>\n",
       "      <th>75%</th>\n",
       "      <td>1.000000</td>\n",
       "    </tr>\n",
       "    <tr>\n",
       "      <th>max</th>\n",
       "      <td>1.000000</td>\n",
       "    </tr>\n",
       "  </tbody>\n",
       "</table>\n",
       "</div>"
      ],
      "text/plain": [
       "               age\n",
       "count  1000.000000\n",
       "mean      0.512000\n",
       "std       0.500106\n",
       "min       0.000000\n",
       "25%       0.000000\n",
       "50%       1.000000\n",
       "75%       1.000000\n",
       "max       1.000000"
      ]
     },
     "execution_count": 36,
     "metadata": {},
     "output_type": "execute_result"
    }
   ],
   "source": [
    "acute_malaria.describe()"
   ]
  },
  {
   "cell_type": "code",
   "execution_count": 37,
   "id": "5cf3aeed",
   "metadata": {},
   "outputs": [
    {
     "data": {
      "text/plain": [
       "(1000, 18)"
      ]
     },
     "execution_count": 37,
     "metadata": {},
     "output_type": "execute_result"
    }
   ],
   "source": [
    "malaria.shape"
   ]
  },
  {
   "cell_type": "code",
   "execution_count": 38,
   "id": "63129aa9",
   "metadata": {},
   "outputs": [],
   "source": [
    "values = {\"fever\":{\"no\":0, \"yes\":1},\"cold\":{\"no\":0, \"yes\":1},\"rigor\":{\"no\":0, \"yes\":1},\"fatigue\":{\"no\":0, \"yes\":1},\n",
    "          \"headace\":{\"no\":0, \"yes\":1},\"bitter_tongue\":{\"no\":0, \"yes\":1},\"vomitting\":{\"no\":0, \"yes\":1},\n",
    "          \"diarrhea\":{\"no\":0, \"yes\":1},\"Convulsion\":{\"no\":0, \"yes\":1},\"Anemia\":{\"no\":0, \"yes\":1},\"jundice\":{\"no\":0, \"yes\":1},\n",
    "          \"cocacola_urine\":{\"no\":0, \"yes\":1},\"hypoglycemia\":{\"no\":0, \"yes\":1},\"prostraction\":{\"no\":0, \"yes\":1},\n",
    "          \"hyperpyrexia\":{\"no\":0, \"yes\":1},\"hyperpyrexia\":{\"no\":0, \"yes\":1},\"severe_malaria\":{\"no\":0, \"yes\":1},\"sex\":{\"Male\":0, \"Female\":1}}\n",
    "\n",
    "acute_malaria.replace(values,inplace=True)"
   ]
  },
  {
   "cell_type": "code",
   "execution_count": 39,
   "id": "51477fe7",
   "metadata": {},
   "outputs": [],
   "source": [
    "acute_malaria.to_csv('file_name.csv')\n"
   ]
  },
  {
   "cell_type": "code",
   "execution_count": 40,
   "id": "d81472ed",
   "metadata": {},
   "outputs": [],
   "source": [
    "acute_malaria = acute_malaria.drop('age', axis=1)"
   ]
  },
  {
   "cell_type": "code",
   "execution_count": 41,
   "id": "8d20669f",
   "metadata": {},
   "outputs": [],
   "source": [
    "#import matplotlib.pyplot as plt\n"
   ]
  },
  {
   "cell_type": "markdown",
   "id": "fa23c50d",
   "metadata": {},
   "source": [
    "malaria1 = malaria.groupby(\"severe_malaria\")"
   ]
  },
  {
   "cell_type": "code",
   "execution_count": 42,
   "id": "ea6d051b",
   "metadata": {},
   "outputs": [],
   "source": [
    "#common_book.head()\n",
    "\n",
    "#Import LabelEncoder\n",
    "from sklearn import preprocessing\n",
    "\n",
    "# Creating labelEncoder\n",
    "le = preprocessing.LabelEncoder()\n",
    "\n",
    "#Converting string labels into numbers.\n",
    "acute_malaria['sex']=le.fit_transform(acute_malaria['sex'])\n",
    "#malaria['severe_malaria']=le.fit_transform(malaria['severe_malaria'])\n"
   ]
  },
  {
   "cell_type": "code",
   "execution_count": 43,
   "id": "a4b16724",
   "metadata": {},
   "outputs": [
    {
     "data": {
      "text/html": [
       "<div>\n",
       "<style scoped>\n",
       "    .dataframe tbody tr th:only-of-type {\n",
       "        vertical-align: middle;\n",
       "    }\n",
       "\n",
       "    .dataframe tbody tr th {\n",
       "        vertical-align: top;\n",
       "    }\n",
       "\n",
       "    .dataframe thead th {\n",
       "        text-align: right;\n",
       "    }\n",
       "</style>\n",
       "<table border=\"1\" class=\"dataframe\">\n",
       "  <thead>\n",
       "    <tr style=\"text-align: right;\">\n",
       "      <th></th>\n",
       "      <th>sex</th>\n",
       "      <th>fever</th>\n",
       "      <th>cold</th>\n",
       "      <th>rigor</th>\n",
       "      <th>fatigue</th>\n",
       "      <th>headace</th>\n",
       "      <th>bitter_tongue</th>\n",
       "      <th>vomitting</th>\n",
       "      <th>diarrhea</th>\n",
       "      <th>Convulsion</th>\n",
       "      <th>Anemia</th>\n",
       "      <th>jundice</th>\n",
       "      <th>cocacola_urine</th>\n",
       "      <th>hypoglycemia</th>\n",
       "      <th>prostraction</th>\n",
       "      <th>hyperpyrexia</th>\n",
       "      <th>severe_malaria</th>\n",
       "    </tr>\n",
       "  </thead>\n",
       "  <tbody>\n",
       "    <tr>\n",
       "      <th>0</th>\n",
       "      <td>0</td>\n",
       "      <td>1</td>\n",
       "      <td>0</td>\n",
       "      <td>0</td>\n",
       "      <td>0</td>\n",
       "      <td>0</td>\n",
       "      <td>1</td>\n",
       "      <td>0</td>\n",
       "      <td>0</td>\n",
       "      <td>0</td>\n",
       "      <td>0</td>\n",
       "      <td>1</td>\n",
       "      <td>0</td>\n",
       "      <td>1</td>\n",
       "      <td>1</td>\n",
       "      <td>0</td>\n",
       "      <td>0</td>\n",
       "    </tr>\n",
       "    <tr>\n",
       "      <th>1</th>\n",
       "      <td>0</td>\n",
       "      <td>0</td>\n",
       "      <td>0</td>\n",
       "      <td>1</td>\n",
       "      <td>1</td>\n",
       "      <td>1</td>\n",
       "      <td>0</td>\n",
       "      <td>0</td>\n",
       "      <td>0</td>\n",
       "      <td>0</td>\n",
       "      <td>0</td>\n",
       "      <td>1</td>\n",
       "      <td>0</td>\n",
       "      <td>0</td>\n",
       "      <td>0</td>\n",
       "      <td>0</td>\n",
       "      <td>0</td>\n",
       "    </tr>\n",
       "    <tr>\n",
       "      <th>2</th>\n",
       "      <td>1</td>\n",
       "      <td>1</td>\n",
       "      <td>0</td>\n",
       "      <td>0</td>\n",
       "      <td>1</td>\n",
       "      <td>0</td>\n",
       "      <td>1</td>\n",
       "      <td>0</td>\n",
       "      <td>1</td>\n",
       "      <td>1</td>\n",
       "      <td>0</td>\n",
       "      <td>0</td>\n",
       "      <td>1</td>\n",
       "      <td>1</td>\n",
       "      <td>0</td>\n",
       "      <td>0</td>\n",
       "      <td>0</td>\n",
       "    </tr>\n",
       "    <tr>\n",
       "      <th>3</th>\n",
       "      <td>1</td>\n",
       "      <td>1</td>\n",
       "      <td>1</td>\n",
       "      <td>1</td>\n",
       "      <td>0</td>\n",
       "      <td>1</td>\n",
       "      <td>0</td>\n",
       "      <td>0</td>\n",
       "      <td>0</td>\n",
       "      <td>0</td>\n",
       "      <td>1</td>\n",
       "      <td>1</td>\n",
       "      <td>1</td>\n",
       "      <td>1</td>\n",
       "      <td>0</td>\n",
       "      <td>1</td>\n",
       "      <td>0</td>\n",
       "    </tr>\n",
       "    <tr>\n",
       "      <th>4</th>\n",
       "      <td>1</td>\n",
       "      <td>1</td>\n",
       "      <td>1</td>\n",
       "      <td>1</td>\n",
       "      <td>0</td>\n",
       "      <td>1</td>\n",
       "      <td>0</td>\n",
       "      <td>0</td>\n",
       "      <td>1</td>\n",
       "      <td>1</td>\n",
       "      <td>1</td>\n",
       "      <td>1</td>\n",
       "      <td>1</td>\n",
       "      <td>0</td>\n",
       "      <td>0</td>\n",
       "      <td>0</td>\n",
       "      <td>0</td>\n",
       "    </tr>\n",
       "    <tr>\n",
       "      <th>...</th>\n",
       "      <td>...</td>\n",
       "      <td>...</td>\n",
       "      <td>...</td>\n",
       "      <td>...</td>\n",
       "      <td>...</td>\n",
       "      <td>...</td>\n",
       "      <td>...</td>\n",
       "      <td>...</td>\n",
       "      <td>...</td>\n",
       "      <td>...</td>\n",
       "      <td>...</td>\n",
       "      <td>...</td>\n",
       "      <td>...</td>\n",
       "      <td>...</td>\n",
       "      <td>...</td>\n",
       "      <td>...</td>\n",
       "      <td>...</td>\n",
       "    </tr>\n",
       "    <tr>\n",
       "      <th>995</th>\n",
       "      <td>1</td>\n",
       "      <td>1</td>\n",
       "      <td>1</td>\n",
       "      <td>0</td>\n",
       "      <td>1</td>\n",
       "      <td>1</td>\n",
       "      <td>0</td>\n",
       "      <td>0</td>\n",
       "      <td>1</td>\n",
       "      <td>0</td>\n",
       "      <td>0</td>\n",
       "      <td>1</td>\n",
       "      <td>1</td>\n",
       "      <td>1</td>\n",
       "      <td>0</td>\n",
       "      <td>0</td>\n",
       "      <td>0</td>\n",
       "    </tr>\n",
       "    <tr>\n",
       "      <th>996</th>\n",
       "      <td>0</td>\n",
       "      <td>0</td>\n",
       "      <td>0</td>\n",
       "      <td>1</td>\n",
       "      <td>0</td>\n",
       "      <td>0</td>\n",
       "      <td>1</td>\n",
       "      <td>0</td>\n",
       "      <td>0</td>\n",
       "      <td>0</td>\n",
       "      <td>0</td>\n",
       "      <td>1</td>\n",
       "      <td>1</td>\n",
       "      <td>1</td>\n",
       "      <td>1</td>\n",
       "      <td>1</td>\n",
       "      <td>0</td>\n",
       "    </tr>\n",
       "    <tr>\n",
       "      <th>997</th>\n",
       "      <td>0</td>\n",
       "      <td>1</td>\n",
       "      <td>1</td>\n",
       "      <td>1</td>\n",
       "      <td>1</td>\n",
       "      <td>1</td>\n",
       "      <td>0</td>\n",
       "      <td>0</td>\n",
       "      <td>0</td>\n",
       "      <td>0</td>\n",
       "      <td>0</td>\n",
       "      <td>1</td>\n",
       "      <td>0</td>\n",
       "      <td>1</td>\n",
       "      <td>0</td>\n",
       "      <td>0</td>\n",
       "      <td>0</td>\n",
       "    </tr>\n",
       "    <tr>\n",
       "      <th>998</th>\n",
       "      <td>1</td>\n",
       "      <td>0</td>\n",
       "      <td>1</td>\n",
       "      <td>0</td>\n",
       "      <td>0</td>\n",
       "      <td>1</td>\n",
       "      <td>1</td>\n",
       "      <td>0</td>\n",
       "      <td>0</td>\n",
       "      <td>0</td>\n",
       "      <td>0</td>\n",
       "      <td>1</td>\n",
       "      <td>1</td>\n",
       "      <td>1</td>\n",
       "      <td>0</td>\n",
       "      <td>0</td>\n",
       "      <td>1</td>\n",
       "    </tr>\n",
       "    <tr>\n",
       "      <th>999</th>\n",
       "      <td>0</td>\n",
       "      <td>1</td>\n",
       "      <td>1</td>\n",
       "      <td>1</td>\n",
       "      <td>0</td>\n",
       "      <td>1</td>\n",
       "      <td>0</td>\n",
       "      <td>0</td>\n",
       "      <td>0</td>\n",
       "      <td>1</td>\n",
       "      <td>0</td>\n",
       "      <td>1</td>\n",
       "      <td>1</td>\n",
       "      <td>1</td>\n",
       "      <td>0</td>\n",
       "      <td>0</td>\n",
       "      <td>0</td>\n",
       "    </tr>\n",
       "  </tbody>\n",
       "</table>\n",
       "<p>1000 rows × 17 columns</p>\n",
       "</div>"
      ],
      "text/plain": [
       "     sex  fever  cold  rigor  fatigue  headace  bitter_tongue  vomitting  \\\n",
       "0      0      1     0      0        0        0              1          0   \n",
       "1      0      0     0      1        1        1              0          0   \n",
       "2      1      1     0      0        1        0              1          0   \n",
       "3      1      1     1      1        0        1              0          0   \n",
       "4      1      1     1      1        0        1              0          0   \n",
       "..   ...    ...   ...    ...      ...      ...            ...        ...   \n",
       "995    1      1     1      0        1        1              0          0   \n",
       "996    0      0     0      1        0        0              1          0   \n",
       "997    0      1     1      1        1        1              0          0   \n",
       "998    1      0     1      0        0        1              1          0   \n",
       "999    0      1     1      1        0        1              0          0   \n",
       "\n",
       "     diarrhea  Convulsion  Anemia  jundice  cocacola_urine  hypoglycemia  \\\n",
       "0           0           0       0        1               0             1   \n",
       "1           0           0       0        1               0             0   \n",
       "2           1           1       0        0               1             1   \n",
       "3           0           0       1        1               1             1   \n",
       "4           1           1       1        1               1             0   \n",
       "..        ...         ...     ...      ...             ...           ...   \n",
       "995         1           0       0        1               1             1   \n",
       "996         0           0       0        1               1             1   \n",
       "997         0           0       0        1               0             1   \n",
       "998         0           0       0        1               1             1   \n",
       "999         0           1       0        1               1             1   \n",
       "\n",
       "     prostraction  hyperpyrexia  severe_malaria  \n",
       "0               1             0               0  \n",
       "1               0             0               0  \n",
       "2               0             0               0  \n",
       "3               0             1               0  \n",
       "4               0             0               0  \n",
       "..            ...           ...             ...  \n",
       "995             0             0               0  \n",
       "996             1             1               0  \n",
       "997             0             0               0  \n",
       "998             0             0               1  \n",
       "999             0             0               0  \n",
       "\n",
       "[1000 rows x 17 columns]"
      ]
     },
     "execution_count": 43,
     "metadata": {},
     "output_type": "execute_result"
    }
   ],
   "source": [
    "acute_malaria\n"
   ]
  },
  {
   "cell_type": "code",
   "execution_count": 44,
   "id": "732db471",
   "metadata": {},
   "outputs": [
    {
     "data": {
      "text/plain": [
       "0      0\n",
       "1      0\n",
       "2      0\n",
       "3      0\n",
       "4      0\n",
       "      ..\n",
       "995    0\n",
       "996    0\n",
       "997    0\n",
       "998    1\n",
       "999    0\n",
       "Name: severe_malaria, Length: 1000, dtype: int64"
      ]
     },
     "execution_count": 44,
     "metadata": {},
     "output_type": "execute_result"
    }
   ],
   "source": [
    "# Spliting data into Feature and\n",
    "X = acute_malaria.drop(columns = ['severe_malaria','sex'])\n",
    "y = acute_malaria['severe_malaria']   \n",
    "y"
   ]
  },
  {
   "cell_type": "code",
   "execution_count": 45,
   "id": "394330d5",
   "metadata": {},
   "outputs": [],
   "source": [
    "# Import train_test_split function\n",
    "from sklearn.model_selection import train_test_split\n",
    "\n",
    "# Split dataset into training set and test set\n",
    "X_train, X_test, y_train, y_test = train_test_split(X, y, test_size=0.3, random_state=2)  # 70% training and 30% test"
   ]
  },
  {
   "cell_type": "code",
   "execution_count": 46,
   "id": "a34ace0c",
   "metadata": {},
   "outputs": [
    {
     "name": "stdout",
     "output_type": "stream",
     "text": [
      "Iteration 1, loss = 1.34300863\n",
      "Iteration 2, loss = 1.14078319\n",
      "Iteration 3, loss = 1.02382194\n",
      "Iteration 4, loss = 0.95221331\n",
      "Iteration 5, loss = 0.91558589\n",
      "Iteration 6, loss = 0.89106374\n",
      "Iteration 7, loss = 0.87364977\n",
      "Iteration 8, loss = 0.85907708\n",
      "Iteration 9, loss = 0.84644387\n",
      "Iteration 10, loss = 0.83371887\n",
      "Iteration 11, loss = 0.82291499\n",
      "Iteration 12, loss = 0.81231068\n",
      "Iteration 13, loss = 0.80243052\n",
      "Iteration 14, loss = 0.79295863\n",
      "Iteration 15, loss = 0.78359728\n",
      "Iteration 16, loss = 0.77515995\n",
      "Iteration 17, loss = 0.76674134\n",
      "Iteration 18, loss = 0.75880054\n",
      "Iteration 19, loss = 0.75135799\n",
      "Iteration 20, loss = 0.74405259\n",
      "Iteration 21, loss = 0.73727188\n",
      "Iteration 22, loss = 0.73042263\n",
      "Iteration 23, loss = 0.72459732\n",
      "Iteration 24, loss = 0.71872850\n",
      "Iteration 25, loss = 0.71332190\n",
      "Iteration 26, loss = 0.70787623\n",
      "Iteration 27, loss = 0.70275175\n",
      "Iteration 28, loss = 0.69835081\n",
      "Iteration 29, loss = 0.69392014\n",
      "Iteration 30, loss = 0.68969357\n",
      "Iteration 31, loss = 0.68580405\n",
      "Iteration 32, loss = 0.68217250\n",
      "Iteration 33, loss = 0.67867257\n",
      "Iteration 34, loss = 0.67539858\n",
      "Iteration 35, loss = 0.67231369\n",
      "Iteration 36, loss = 0.66973829\n",
      "Iteration 37, loss = 0.66692110\n",
      "Iteration 38, loss = 0.66470376\n",
      "Iteration 39, loss = 0.66224161\n",
      "Iteration 40, loss = 0.66032075\n",
      "Iteration 41, loss = 0.65842883\n",
      "Iteration 42, loss = 0.65656252\n",
      "Iteration 43, loss = 0.65493502\n",
      "Iteration 44, loss = 0.65337860\n",
      "Iteration 45, loss = 0.65202390\n",
      "Iteration 46, loss = 0.65062988\n",
      "Iteration 47, loss = 0.64943480\n",
      "Iteration 48, loss = 0.64834502\n",
      "Iteration 49, loss = 0.64727918\n",
      "Iteration 50, loss = 0.64625214\n",
      "Iteration 51, loss = 0.64535652\n",
      "Iteration 52, loss = 0.64460087\n",
      "Iteration 53, loss = 0.64386338\n",
      "Iteration 54, loss = 0.64305987\n",
      "Iteration 55, loss = 0.64243513\n",
      "Iteration 56, loss = 0.64196544\n",
      "Iteration 57, loss = 0.64139903\n",
      "Iteration 58, loss = 0.64088149\n",
      "Iteration 59, loss = 0.64049846\n",
      "Iteration 60, loss = 0.64014370\n",
      "Iteration 61, loss = 0.63972139\n",
      "Iteration 62, loss = 0.63938052\n",
      "Iteration 63, loss = 0.63911142\n",
      "Iteration 64, loss = 0.63881640\n",
      "Iteration 65, loss = 0.63860115\n",
      "Iteration 66, loss = 0.63837623\n",
      "Iteration 67, loss = 0.63816848\n",
      "Iteration 68, loss = 0.63790218\n",
      "Iteration 69, loss = 0.63772916\n",
      "Iteration 70, loss = 0.63758743\n",
      "Iteration 71, loss = 0.63743140\n",
      "Iteration 72, loss = 0.63733660\n",
      "Iteration 73, loss = 0.63717754\n",
      "Iteration 74, loss = 0.63707184\n",
      "Iteration 75, loss = 0.63698644\n",
      "Iteration 76, loss = 0.63686596\n",
      "Iteration 77, loss = 0.63678723\n",
      "Iteration 78, loss = 0.63671452\n",
      "Iteration 79, loss = 0.63667277\n",
      "Iteration 80, loss = 0.63659126\n",
      "Iteration 81, loss = 0.63653412\n",
      "Iteration 82, loss = 0.63651231\n",
      "Iteration 83, loss = 0.63645669\n",
      "Iteration 84, loss = 0.63641806\n",
      "Iteration 85, loss = 0.63639423\n",
      "Iteration 86, loss = 0.63635574\n",
      "Iteration 87, loss = 0.63631612\n",
      "Training loss did not improve more than tol=0.000100 for 10 consecutive epochs. Stopping.\n"
     ]
    },
    {
     "data": {
      "text/plain": [
       "MLPClassifier(hidden_layer_sizes=(3, 2), learning_rate_init=0.01,\n",
       "              random_state=4, verbose=True)"
      ]
     },
     "execution_count": 46,
     "metadata": {},
     "output_type": "execute_result"
    }
   ],
   "source": [
    "# Import MLPClassifer \n",
    "from sklearn.neural_network import MLPClassifier\n",
    "\n",
    "#Create model object\n",
    "clf = MLPClassifier(hidden_layer_sizes=(3,2),\n",
    "                    random_state=4,\n",
    "                    verbose=True,\n",
    "                    learning_rate_init=0.01)\n",
    "\n",
    "#clf = MLPClassifier(hidden_layer_sizes=(4,4), max_iter=800, activation = 'relu')\n",
    "\n",
    "# Fit data onto the model\n",
    "clf.fit(X_train,y_train)"
   ]
  },
  {
   "cell_type": "code",
   "execution_count": 47,
   "id": "fb771792",
   "metadata": {},
   "outputs": [],
   "source": [
    "# Make prediction on test dataset\n",
    "ypred=clf.predict(X_test)"
   ]
  },
  {
   "cell_type": "code",
   "execution_count": 48,
   "id": "7f81c32a",
   "metadata": {},
   "outputs": [
    {
     "data": {
      "text/plain": [
       "0.7"
      ]
     },
     "execution_count": 48,
     "metadata": {},
     "output_type": "execute_result"
    }
   ],
   "source": [
    "# Import accuracy score \n",
    "from sklearn.metrics import accuracy_score,confusion_matrix,classification_report\n",
    "\n",
    "# Calcuate accuracy\n",
    "accuracy_score(y_test,ypred)"
   ]
  },
  {
   "cell_type": "code",
   "execution_count": 49,
   "id": "1e4648b3",
   "metadata": {},
   "outputs": [
    {
     "data": {
      "text/plain": [
       "0.3"
      ]
     },
     "execution_count": 49,
     "metadata": {},
     "output_type": "execute_result"
    }
   ],
   "source": [
    "# Calculation of Mean Squared Error (MSE)\n",
    "from sklearn.metrics import mean_squared_error\n",
    "mean_squared_error(y_test,ypred)"
   ]
  },
  {
   "cell_type": "code",
   "execution_count": 50,
   "id": "9e72d3be",
   "metadata": {},
   "outputs": [
    {
     "data": {
      "text/plain": [
       "array([[210,   0],\n",
       "       [ 90,   0]], dtype=int64)"
      ]
     },
     "execution_count": 50,
     "metadata": {},
     "output_type": "execute_result"
    }
   ],
   "source": [
    "confusion_matrix(y_test,ypred)"
   ]
  },
  {
   "cell_type": "code",
   "execution_count": 51,
   "id": "1285ee0c",
   "metadata": {},
   "outputs": [
    {
     "name": "stdout",
     "output_type": "stream",
     "text": [
      "              precision    recall  f1-score   support\n",
      "\n",
      "           0       0.70      1.00      0.82       210\n",
      "           1       0.00      0.00      0.00        90\n",
      "\n",
      "    accuracy                           0.70       300\n",
      "   macro avg       0.35      0.50      0.41       300\n",
      "weighted avg       0.49      0.70      0.58       300\n",
      "\n"
     ]
    },
    {
     "name": "stderr",
     "output_type": "stream",
     "text": [
      "C:\\ProgramData\\Anaconda3\\lib\\site-packages\\sklearn\\metrics\\_classification.py:1318: UndefinedMetricWarning: Precision and F-score are ill-defined and being set to 0.0 in labels with no predicted samples. Use `zero_division` parameter to control this behavior.\n",
      "  _warn_prf(average, modifier, msg_start, len(result))\n",
      "C:\\ProgramData\\Anaconda3\\lib\\site-packages\\sklearn\\metrics\\_classification.py:1318: UndefinedMetricWarning: Precision and F-score are ill-defined and being set to 0.0 in labels with no predicted samples. Use `zero_division` parameter to control this behavior.\n",
      "  _warn_prf(average, modifier, msg_start, len(result))\n",
      "C:\\ProgramData\\Anaconda3\\lib\\site-packages\\sklearn\\metrics\\_classification.py:1318: UndefinedMetricWarning: Precision and F-score are ill-defined and being set to 0.0 in labels with no predicted samples. Use `zero_division` parameter to control this behavior.\n",
      "  _warn_prf(average, modifier, msg_start, len(result))\n"
     ]
    }
   ],
   "source": [
    "print(classification_report(y_test,ypred))"
   ]
  },
  {
   "cell_type": "code",
   "execution_count": null,
   "id": "6edbc30b",
   "metadata": {},
   "outputs": [],
   "source": []
  }
 ],
 "metadata": {
  "kernelspec": {
   "display_name": "Python 3 (ipykernel)",
   "language": "python",
   "name": "python3"
  },
  "language_info": {
   "codemirror_mode": {
    "name": "ipython",
    "version": 3
   },
   "file_extension": ".py",
   "mimetype": "text/x-python",
   "name": "python",
   "nbconvert_exporter": "python",
   "pygments_lexer": "ipython3",
   "version": "3.9.12"
  }
 },
 "nbformat": 4,
 "nbformat_minor": 5
}
